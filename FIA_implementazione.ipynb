{
  "nbformat": 4,
  "nbformat_minor": 0,
  "metadata": {
    "colab": {
      "provenance": []
    },
    "kernelspec": {
      "name": "python3",
      "display_name": "Python 3"
    },
    "language_info": {
      "name": "python"
    }
  },
  "cells": [
    {
      "cell_type": "code",
      "source": [
        "import pandas as pd\n",
        "from sklearn.preprocessing import MultiLabelBinarizer, StandardScaler\n",
        "from sklearn.cluster import KMeans\n",
        "import json\n",
        "\n",
        "# Creiamo un esempio di DataFrame\n",
        "data = pd.read_csv(\"merged_dataset_300.csv\")\n",
        "\n",
        "watchlist_dataset = pd.DataFrame(data)\n",
        "\n",
        "# Trasformiamo la colonna 'Generi' in variabili dummy\n",
        "mlb = MultiLabelBinarizer()\n",
        "generi_dummy = pd.DataFrame(mlb.fit_transform(watchlist_dataset['Genere'].str.split(',')), columns=mlb.classes_)\n",
        "\n",
        "# Uniamo le variabili dummy con la colonna 'AnnoMedio'\n",
        "X = pd.concat([generi_dummy, watchlist_dataset['MediaAnno']], axis=1)\n",
        "\n",
        "# Standardizziamo i dati\n",
        "scaler = StandardScaler()\n",
        "X_scaled = scaler.fit_transform(X)\n",
        "\n",
        "# Applichiamo l'algoritmo K-Means\n",
        "kmeans = KMeans(n_clusters=20, random_state=42) #0.11028786040103278\n",
        "\n",
        "watchlist_dataset['Cluster'] = kmeans.fit_predict(X_scaled)\n",
        "\n",
        "def format_json(input_json):\n",
        "    # Manipola il valore associato alla chiave 'Genere' per ottenere il formato desiderato\n",
        "    input_json['Genere'] = input_json['Genere'].strip('[]').split(',')\n",
        "    # Rimuove eventuali spazi bianchi attorno ai generi\n",
        "    input_json['Genere'] = [genre.strip() for genre in input_json['Genere']]\n",
        "    return input_json\n",
        "\n",
        "def rimuovi_ridondanze_generi(input_utente):\n",
        "    # Rimuovi le ridondanze dai generi\n",
        "    generi_unici = list(set(input_utente['Genere']))\n",
        "    input_utente_no_ridondanze = {'Genere': generi_unici, 'MediaAnno': input_utente['MediaAnno']}\n",
        "    return input_utente_no_ridondanze\n",
        "\n",
        "def raccomanda_film(input_utente):\n",
        "    input_utente = format_json(input_utente)\n",
        "\n",
        "    # Rimuovi ridondanze dai generi\n",
        "    input_utente = rimuovi_ridondanze_generi(input_utente)\n",
        "\n",
        "    # Trasformiamo i generi dell'utente in variabili dummy\n",
        "    generi_utente = pd.DataFrame(mlb.transform([input_utente['Genere']]), columns=mlb.classes_)\n",
        "\n",
        "    # Creiamo un DataFrame per l'utente con la stessa struttura di X (features originali)\n",
        "    input_utente_df = pd.DataFrame(0, columns=X.columns, index=[0])\n",
        "\n",
        "    # Aggiungiamo le variabili dummy\n",
        "    input_utente_df[generi_utente.columns] = generi_utente.values\n",
        "\n",
        "    # Aggiungiamo l'anno medio\n",
        "    input_utente_df['MediaAnno'] = input_utente['MediaAnno']\n",
        "\n",
        "    # Standardizziamo i dati\n",
        "    input_utente_scaled = scaler.transform(input_utente_df)\n",
        "\n",
        "    # Otteniamo il cluster a cui appartiene l'utente\n",
        "    cluster_utente = kmeans.predict(input_utente_scaled.reshape(1, -1))\n",
        "\n",
        "    # Restituisci tutti gli id film nel cluster (senza ridondanze)\n",
        "    id_film_senza_ridondanze = watchlist_dataset[watchlist_dataset['Cluster'] == cluster_utente[0]]['ID_Film'].str.split(',').explode().unique().tolist()\n",
        "\n",
        "    return id_film_senza_ridondanze, cluster_utente[0]\n",
        "\n",
        "\n",
        "input_utente = {\"Genere\": \"[Documentary,Biography,Drama,Music,Horror,Sci-Fi]\", \"MediaAnno\": 2018}\n",
        "\n",
        "raccomandazioni_utente, numero_cluster = raccomanda_film(input_utente)\n",
        "print(f\"Film raccomandati per l'utente (Cluster {numero_cluster}):\")\n",
        "print(raccomandazioni_utente)\n",
        "print(f\"Lunghezza della lista di ID Film consigliati: {len(raccomandazioni_utente)}\")"
      ],
      "metadata": {
        "colab": {
          "base_uri": "https://localhost:8080/"
        },
        "id": "72r1Pjw4y0fU",
        "outputId": "807d1f9e-4276-45c2-cf59-49bed3ac310f"
      },
      "execution_count": null,
      "outputs": [
        {
          "output_type": "stream",
          "name": "stdout",
          "text": [
            "Film raccomandati per l'utente (Cluster 15):\n",
            "['41', '103', '61', '60', '1', '70']\n",
            "Lunghezza della lista di ID Film consigliati: 6\n"
          ]
        },
        {
          "output_type": "stream",
          "name": "stderr",
          "text": [
            "/usr/local/lib/python3.10/dist-packages/sklearn/cluster/_kmeans.py:870: FutureWarning: The default value of `n_init` will change from 10 to 'auto' in 1.4. Set the value of `n_init` explicitly to suppress the warning\n",
            "  warnings.warn(\n"
          ]
        }
      ]
    },
    {
      "cell_type": "code",
      "source": [
        "import pandas as pd\n",
        "import os\n",
        "import json\n",
        "\n",
        "def scrivi_su_file_pandas_da_json(json_input):\n",
        "    file_path = 'Valutazioni.csv'\n",
        "\n",
        "    # Converti le stringhe di generi e prodotti consigliati in liste\n",
        "    generi = json_input['Genere']\n",
        "    consigliati = json_input['Consigliati']\n",
        "\n",
        "    # Creiamo un DataFrame con i dati dell'utente\n",
        "    df = pd.DataFrame({\n",
        "        'Genere': [generi],\n",
        "        'MediaAnno': [json_input['MediaAnno']],\n",
        "        'Valutazione': [json_input['Valutazione']],\n",
        "        'Consigliati': [consigliati]\n",
        "    })\n",
        "\n",
        "    # Scrivi il DataFrame su un file CSV\n",
        "    try:\n",
        "        if not os.path.exists(file_path):\n",
        "            df.to_csv(file_path, index=False)\n",
        "        else:\n",
        "            df.to_csv(file_path, mode='a', header=False, index=False)\n",
        "        return True\n",
        "    except Exception as e:\n",
        "        print(f\"Si è verificato un errore durante la scrittura del file: {e}\")\n",
        "        return False\n",
        "\n",
        "# Dati di esempio\n",
        "json_input = {\"Consigliati\":\"[41, 103, 120, 16, 79, 25, 19, 91, 20, 40, 1, 60, 46, 38, 55, 31, 73, 50, 69, 93, 23, 99, 32, 65, 51, 35]\",\"Genere\":\"[Documentary,Biography,Drama,Music,Animation,Action,Comedy,Sci-Fi,Comedy,Drama,Family,Animation,Adventure,Drama,Fantasy,Romance,Sci-Fi,Crime,Drama,Mystery,Thriller,Action,Adventure,Sci-Fi,Drama,Romance]\",\"MediaAnno\":2010,\"Valutazione\":\"Positiva\"}\n",
        "\n",
        "if scrivi_su_file_pandas_da_json(json_input):\n",
        "    print(\"Il file è stato scritto correttamente.\")\n",
        "else:\n",
        "    print(\"Si è verificato un errore durante la scrittura del file.\")\n"
      ],
      "metadata": {
        "colab": {
          "base_uri": "https://localhost:8080/"
        },
        "id": "jwxbwcqwqtZI",
        "outputId": "c06df2c8-81b5-458c-90d7-5ff8b9d8511e"
      },
      "execution_count": null,
      "outputs": [
        {
          "output_type": "stream",
          "name": "stdout",
          "text": [
            "Il file è stato scritto correttamente.\n"
          ]
        }
      ]
    }
  ]
}